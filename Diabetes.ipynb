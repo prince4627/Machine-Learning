{
 "cells": [
  {
   "cell_type": "code",
   "execution_count": 1,
   "metadata": {},
   "outputs": [
    {
     "name": "stderr",
     "output_type": "stream",
     "text": [
      "Using TensorFlow backend.\n"
     ]
    }
   ],
   "source": [
    "import pandas as pd\n",
    "import numpy as np\n",
    "from keras.layers import Dense\n",
    "from keras.models import Sequential\n",
    "from sklearn.model_selection import train_test_split"
   ]
  },
  {
   "cell_type": "code",
   "execution_count": 2,
   "metadata": {},
   "outputs": [
    {
     "data": {
      "text/html": [
       "<div>\n",
       "<style scoped>\n",
       "    .dataframe tbody tr th:only-of-type {\n",
       "        vertical-align: middle;\n",
       "    }\n",
       "\n",
       "    .dataframe tbody tr th {\n",
       "        vertical-align: top;\n",
       "    }\n",
       "\n",
       "    .dataframe thead th {\n",
       "        text-align: right;\n",
       "    }\n",
       "</style>\n",
       "<table border=\"1\" class=\"dataframe\">\n",
       "  <thead>\n",
       "    <tr style=\"text-align: right;\">\n",
       "      <th></th>\n",
       "      <th>Pregnancies</th>\n",
       "      <th>Glucose</th>\n",
       "      <th>BloodPressure</th>\n",
       "      <th>SkinThickness</th>\n",
       "      <th>Insulin</th>\n",
       "      <th>BMI</th>\n",
       "      <th>DiabetesPedigreeFunction</th>\n",
       "      <th>Age</th>\n",
       "      <th>Outcome</th>\n",
       "    </tr>\n",
       "  </thead>\n",
       "  <tbody>\n",
       "    <tr>\n",
       "      <th>0</th>\n",
       "      <td>6</td>\n",
       "      <td>148</td>\n",
       "      <td>72</td>\n",
       "      <td>35</td>\n",
       "      <td>0</td>\n",
       "      <td>33.6</td>\n",
       "      <td>0.627</td>\n",
       "      <td>50</td>\n",
       "      <td>1</td>\n",
       "    </tr>\n",
       "    <tr>\n",
       "      <th>1</th>\n",
       "      <td>1</td>\n",
       "      <td>85</td>\n",
       "      <td>66</td>\n",
       "      <td>29</td>\n",
       "      <td>0</td>\n",
       "      <td>26.6</td>\n",
       "      <td>0.351</td>\n",
       "      <td>31</td>\n",
       "      <td>0</td>\n",
       "    </tr>\n",
       "    <tr>\n",
       "      <th>2</th>\n",
       "      <td>8</td>\n",
       "      <td>183</td>\n",
       "      <td>64</td>\n",
       "      <td>0</td>\n",
       "      <td>0</td>\n",
       "      <td>23.3</td>\n",
       "      <td>0.672</td>\n",
       "      <td>32</td>\n",
       "      <td>1</td>\n",
       "    </tr>\n",
       "    <tr>\n",
       "      <th>3</th>\n",
       "      <td>1</td>\n",
       "      <td>89</td>\n",
       "      <td>66</td>\n",
       "      <td>23</td>\n",
       "      <td>94</td>\n",
       "      <td>28.1</td>\n",
       "      <td>0.167</td>\n",
       "      <td>21</td>\n",
       "      <td>0</td>\n",
       "    </tr>\n",
       "    <tr>\n",
       "      <th>4</th>\n",
       "      <td>0</td>\n",
       "      <td>137</td>\n",
       "      <td>40</td>\n",
       "      <td>35</td>\n",
       "      <td>168</td>\n",
       "      <td>43.1</td>\n",
       "      <td>2.288</td>\n",
       "      <td>33</td>\n",
       "      <td>1</td>\n",
       "    </tr>\n",
       "  </tbody>\n",
       "</table>\n",
       "</div>"
      ],
      "text/plain": [
       "   Pregnancies  Glucose  BloodPressure  SkinThickness  Insulin   BMI  \\\n",
       "0            6      148             72             35        0  33.6   \n",
       "1            1       85             66             29        0  26.6   \n",
       "2            8      183             64              0        0  23.3   \n",
       "3            1       89             66             23       94  28.1   \n",
       "4            0      137             40             35      168  43.1   \n",
       "\n",
       "   DiabetesPedigreeFunction  Age  Outcome  \n",
       "0                     0.627   50        1  \n",
       "1                     0.351   31        0  \n",
       "2                     0.672   32        1  \n",
       "3                     0.167   21        0  \n",
       "4                     2.288   33        1  "
      ]
     },
     "execution_count": 2,
     "metadata": {},
     "output_type": "execute_result"
    }
   ],
   "source": [
    "data = pd.read_csv(\"diabetes.csv\")\n",
    "data.head()"
   ]
  },
  {
   "cell_type": "code",
   "execution_count": 7,
   "metadata": {},
   "outputs": [],
   "source": [
    "data_label = data['Outcome']\n",
    "data_features = data.drop('Outcome',1)"
   ]
  },
  {
   "cell_type": "code",
   "execution_count": 8,
   "metadata": {},
   "outputs": [],
   "source": [
    "data_features.replace('?', -99999, inplace=True)"
   ]
  },
  {
   "cell_type": "code",
   "execution_count": 9,
   "metadata": {},
   "outputs": [
    {
     "data": {
      "text/plain": [
       "0    1\n",
       "1    0\n",
       "2    1\n",
       "3    0\n",
       "4    1\n",
       "Name: Outcome, dtype: int64"
      ]
     },
     "execution_count": 9,
     "metadata": {},
     "output_type": "execute_result"
    }
   ],
   "source": [
    "data_label.head()"
   ]
  },
  {
   "cell_type": "code",
   "execution_count": 11,
   "metadata": {},
   "outputs": [
    {
     "data": {
      "text/html": [
       "<div>\n",
       "<style scoped>\n",
       "    .dataframe tbody tr th:only-of-type {\n",
       "        vertical-align: middle;\n",
       "    }\n",
       "\n",
       "    .dataframe tbody tr th {\n",
       "        vertical-align: top;\n",
       "    }\n",
       "\n",
       "    .dataframe thead th {\n",
       "        text-align: right;\n",
       "    }\n",
       "</style>\n",
       "<table border=\"1\" class=\"dataframe\">\n",
       "  <thead>\n",
       "    <tr style=\"text-align: right;\">\n",
       "      <th></th>\n",
       "      <th>Pregnancies</th>\n",
       "      <th>Glucose</th>\n",
       "      <th>BloodPressure</th>\n",
       "      <th>SkinThickness</th>\n",
       "      <th>Insulin</th>\n",
       "      <th>BMI</th>\n",
       "      <th>DiabetesPedigreeFunction</th>\n",
       "      <th>Age</th>\n",
       "    </tr>\n",
       "  </thead>\n",
       "  <tbody>\n",
       "    <tr>\n",
       "      <th>0</th>\n",
       "      <td>6</td>\n",
       "      <td>148</td>\n",
       "      <td>72</td>\n",
       "      <td>35</td>\n",
       "      <td>0</td>\n",
       "      <td>33.6</td>\n",
       "      <td>0.627</td>\n",
       "      <td>50</td>\n",
       "    </tr>\n",
       "    <tr>\n",
       "      <th>1</th>\n",
       "      <td>1</td>\n",
       "      <td>85</td>\n",
       "      <td>66</td>\n",
       "      <td>29</td>\n",
       "      <td>0</td>\n",
       "      <td>26.6</td>\n",
       "      <td>0.351</td>\n",
       "      <td>31</td>\n",
       "    </tr>\n",
       "    <tr>\n",
       "      <th>2</th>\n",
       "      <td>8</td>\n",
       "      <td>183</td>\n",
       "      <td>64</td>\n",
       "      <td>0</td>\n",
       "      <td>0</td>\n",
       "      <td>23.3</td>\n",
       "      <td>0.672</td>\n",
       "      <td>32</td>\n",
       "    </tr>\n",
       "    <tr>\n",
       "      <th>3</th>\n",
       "      <td>1</td>\n",
       "      <td>89</td>\n",
       "      <td>66</td>\n",
       "      <td>23</td>\n",
       "      <td>94</td>\n",
       "      <td>28.1</td>\n",
       "      <td>0.167</td>\n",
       "      <td>21</td>\n",
       "    </tr>\n",
       "    <tr>\n",
       "      <th>4</th>\n",
       "      <td>0</td>\n",
       "      <td>137</td>\n",
       "      <td>40</td>\n",
       "      <td>35</td>\n",
       "      <td>168</td>\n",
       "      <td>43.1</td>\n",
       "      <td>2.288</td>\n",
       "      <td>33</td>\n",
       "    </tr>\n",
       "  </tbody>\n",
       "</table>\n",
       "</div>"
      ],
      "text/plain": [
       "   Pregnancies  Glucose  BloodPressure  SkinThickness  Insulin   BMI  \\\n",
       "0            6      148             72             35        0  33.6   \n",
       "1            1       85             66             29        0  26.6   \n",
       "2            8      183             64              0        0  23.3   \n",
       "3            1       89             66             23       94  28.1   \n",
       "4            0      137             40             35      168  43.1   \n",
       "\n",
       "   DiabetesPedigreeFunction  Age  \n",
       "0                     0.627   50  \n",
       "1                     0.351   31  \n",
       "2                     0.672   32  \n",
       "3                     0.167   21  \n",
       "4                     2.288   33  "
      ]
     },
     "execution_count": 11,
     "metadata": {},
     "output_type": "execute_result"
    }
   ],
   "source": [
    "data_features.head()"
   ]
  },
  {
   "cell_type": "code",
   "execution_count": 13,
   "metadata": {},
   "outputs": [],
   "source": [
    "label = []\n",
    "\n",
    "for num in data_label:\n",
    "    if num == 1:\n",
    "        label.append([1,0])\n",
    "    elif num == 0:\n",
    "        label.append([0,1])"
   ]
  },
  {
   "cell_type": "code",
   "execution_count": 14,
   "metadata": {},
   "outputs": [],
   "source": [
    "features = np.array(data_features)\n",
    "label = np.array(label)"
   ]
  },
  {
   "cell_type": "code",
   "execution_count": 15,
   "metadata": {},
   "outputs": [
    {
     "data": {
      "text/plain": [
       "(768, 8)"
      ]
     },
     "execution_count": 15,
     "metadata": {},
     "output_type": "execute_result"
    }
   ],
   "source": [
    "features.shape"
   ]
  },
  {
   "cell_type": "code",
   "execution_count": 16,
   "metadata": {},
   "outputs": [
    {
     "data": {
      "text/plain": [
       "(768, 2)"
      ]
     },
     "execution_count": 16,
     "metadata": {},
     "output_type": "execute_result"
    }
   ],
   "source": [
    "label.shape"
   ]
  },
  {
   "cell_type": "code",
   "execution_count": 41,
   "metadata": {},
   "outputs": [],
   "source": [
    "x_train, x_test, y_train, y_test = train_test_split(features, label, test_size=0.2, random_state=47)"
   ]
  },
  {
   "cell_type": "code",
   "execution_count": 42,
   "metadata": {},
   "outputs": [
    {
     "data": {
      "text/plain": [
       "(614, 2)"
      ]
     },
     "execution_count": 42,
     "metadata": {},
     "output_type": "execute_result"
    }
   ],
   "source": [
    "y_train.shape"
   ]
  },
  {
   "cell_type": "code",
   "execution_count": 22,
   "metadata": {},
   "outputs": [],
   "source": [
    "model = Sequential()"
   ]
  },
  {
   "cell_type": "code",
   "execution_count": 43,
   "metadata": {},
   "outputs": [],
   "source": [
    "model.add(Dense(500, input_dim=8, activation='sigmoid'))\n",
    "model.add(Dense(100, activation='sigmoid'))\n",
    "model.add(Dense(2, activation='softmax'))"
   ]
  },
  {
   "cell_type": "code",
   "execution_count": 44,
   "metadata": {},
   "outputs": [
    {
     "name": "stdout",
     "output_type": "stream",
     "text": [
      "Train on 768 samples, validate on 614 samples\n",
      "Epoch 1/100\n",
      "768/768 [==============================] - 1s 1ms/step - loss: 0.2473 - acc: 0.5703 - val_loss: 0.2415 - val_acc: 0.6384\n",
      "Epoch 2/100\n",
      "768/768 [==============================] - 0s 135us/step - loss: 0.2391 - acc: 0.6510 - val_loss: 0.2317 - val_acc: 0.6384\n",
      "Epoch 3/100\n",
      "768/768 [==============================] - 0s 133us/step - loss: 0.2251 - acc: 0.6510 - val_loss: 0.2243 - val_acc: 0.6384\n",
      "Epoch 4/100\n",
      "768/768 [==============================] - 0s 130us/step - loss: 0.2224 - acc: 0.6510 - val_loss: 0.2251 - val_acc: 0.6384\n",
      "Epoch 5/100\n",
      "768/768 [==============================] - 0s 153us/step - loss: 0.2177 - acc: 0.6510 - val_loss: 0.2216 - val_acc: 0.6384\n",
      "Epoch 6/100\n",
      "768/768 [==============================] - 0s 145us/step - loss: 0.2139 - acc: 0.6510 - val_loss: 0.2099 - val_acc: 0.6384\n",
      "Epoch 7/100\n",
      "768/768 [==============================] - 0s 140us/step - loss: 0.2057 - acc: 0.6510 - val_loss: 0.2059 - val_acc: 0.6384\n",
      "Epoch 8/100\n",
      "768/768 [==============================] - 0s 130us/step - loss: 0.1998 - acc: 0.6589 - val_loss: 0.2032 - val_acc: 0.8013\n",
      "Epoch 9/100\n",
      "768/768 [==============================] - 0s 134us/step - loss: 0.2005 - acc: 0.7057 - val_loss: 0.1931 - val_acc: 0.7850\n",
      "Epoch 10/100\n",
      "768/768 [==============================] - 0s 147us/step - loss: 0.1927 - acc: 0.7096 - val_loss: 0.1795 - val_acc: 0.6384\n",
      "Epoch 11/100\n",
      "768/768 [==============================] - 0s 130us/step - loss: 0.1764 - acc: 0.7565 - val_loss: 0.1807 - val_acc: 0.7964\n",
      "Epoch 12/100\n",
      "768/768 [==============================] - 0s 150us/step - loss: 0.1687 - acc: 0.7813 - val_loss: 0.1581 - val_acc: 0.8192\n",
      "Epoch 13/100\n",
      "768/768 [==============================] - 0s 155us/step - loss: 0.1569 - acc: 0.8047 - val_loss: 0.1556 - val_acc: 0.8143\n",
      "Epoch 14/100\n",
      "768/768 [==============================] - 0s 153us/step - loss: 0.1548 - acc: 0.8021 - val_loss: 0.1474 - val_acc: 0.8094\n",
      "Epoch 15/100\n",
      "768/768 [==============================] - 0s 166us/step - loss: 0.1499 - acc: 0.7969 - val_loss: 0.1623 - val_acc: 0.7785\n",
      "Epoch 16/100\n",
      "768/768 [==============================] - 0s 157us/step - loss: 0.1491 - acc: 0.8021 - val_loss: 0.1411 - val_acc: 0.8127\n",
      "Epoch 17/100\n",
      "768/768 [==============================] - 0s 158us/step - loss: 0.1401 - acc: 0.8138 - val_loss: 0.1355 - val_acc: 0.8160\n",
      "Epoch 18/100\n",
      "768/768 [==============================] - 0s 151us/step - loss: 0.1350 - acc: 0.8177 - val_loss: 0.1371 - val_acc: 0.8094\n",
      "Epoch 19/100\n",
      "768/768 [==============================] - 0s 126us/step - loss: 0.1458 - acc: 0.7956 - val_loss: 0.1560 - val_acc: 0.7769\n",
      "Epoch 20/100\n",
      "768/768 [==============================] - 0s 125us/step - loss: 0.1416 - acc: 0.8008 - val_loss: 0.1290 - val_acc: 0.8208\n",
      "Epoch 21/100\n",
      "768/768 [==============================] - 0s 135us/step - loss: 0.1314 - acc: 0.8268 - val_loss: 0.1282 - val_acc: 0.8306\n",
      "Epoch 22/100\n",
      "768/768 [==============================] - 0s 138us/step - loss: 0.1277 - acc: 0.8294 - val_loss: 0.1264 - val_acc: 0.8339\n",
      "Epoch 23/100\n",
      "768/768 [==============================] - 0s 149us/step - loss: 0.1347 - acc: 0.8229 - val_loss: 0.1263 - val_acc: 0.8322\n",
      "Epoch 24/100\n",
      "768/768 [==============================] - 0s 147us/step - loss: 0.1288 - acc: 0.8307 - val_loss: 0.1228 - val_acc: 0.8355\n",
      "Epoch 25/100\n",
      "768/768 [==============================] - 0s 146us/step - loss: 0.1284 - acc: 0.8229 - val_loss: 0.1248 - val_acc: 0.8322\n",
      "Epoch 26/100\n",
      "768/768 [==============================] - 0s 142us/step - loss: 0.1364 - acc: 0.8099 - val_loss: 0.1527 - val_acc: 0.7997\n",
      "Epoch 27/100\n",
      "768/768 [==============================] - 0s 112us/step - loss: 0.1263 - acc: 0.8268 - val_loss: 0.1286 - val_acc: 0.8176\n",
      "Epoch 28/100\n",
      "768/768 [==============================] - 0s 128us/step - loss: 0.1283 - acc: 0.8307 - val_loss: 0.1410 - val_acc: 0.8094\n",
      "Epoch 29/100\n",
      "768/768 [==============================] - 0s 112us/step - loss: 0.1380 - acc: 0.7904 - val_loss: 0.1808 - val_acc: 0.7476\n",
      "Epoch 30/100\n",
      "768/768 [==============================] - 0s 119us/step - loss: 0.1554 - acc: 0.7760 - val_loss: 0.1208 - val_acc: 0.8388\n",
      "Epoch 31/100\n",
      "768/768 [==============================] - 0s 145us/step - loss: 0.1291 - acc: 0.8255 - val_loss: 0.1251 - val_acc: 0.8241\n",
      "Epoch 32/100\n",
      "768/768 [==============================] - 0s 128us/step - loss: 0.1303 - acc: 0.8411 - val_loss: 0.1174 - val_acc: 0.8502\n",
      "Epoch 33/100\n",
      "768/768 [==============================] - 0s 148us/step - loss: 0.1321 - acc: 0.8190 - val_loss: 0.1240 - val_acc: 0.8355\n",
      "Epoch 34/100\n",
      "768/768 [==============================] - 0s 119us/step - loss: 0.1268 - acc: 0.8346 - val_loss: 0.1368 - val_acc: 0.8143\n",
      "Epoch 35/100\n",
      "768/768 [==============================] - 0s 137us/step - loss: 0.1207 - acc: 0.8346 - val_loss: 0.1261 - val_acc: 0.8257\n",
      "Epoch 36/100\n",
      "768/768 [==============================] - 0s 126us/step - loss: 0.1345 - acc: 0.8138 - val_loss: 0.1257 - val_acc: 0.8339\n",
      "Epoch 37/100\n",
      "768/768 [==============================] - 0s 112us/step - loss: 0.1554 - acc: 0.7826 - val_loss: 0.1965 - val_acc: 0.7394\n",
      "Epoch 38/100\n",
      "768/768 [==============================] - 0s 143us/step - loss: 0.1452 - acc: 0.7982 - val_loss: 0.1312 - val_acc: 0.8257\n",
      "Epoch 39/100\n",
      "768/768 [==============================] - 0s 107us/step - loss: 0.1364 - acc: 0.8138 - val_loss: 0.1316 - val_acc: 0.8143\n",
      "Epoch 40/100\n",
      "768/768 [==============================] - 0s 108us/step - loss: 0.1242 - acc: 0.8398 - val_loss: 0.1184 - val_acc: 0.8469\n",
      "Epoch 41/100\n",
      "768/768 [==============================] - 0s 104us/step - loss: 0.1189 - acc: 0.8385 - val_loss: 0.1163 - val_acc: 0.8469\n",
      "Epoch 42/100\n",
      "768/768 [==============================] - 0s 126us/step - loss: 0.1302 - acc: 0.8281 - val_loss: 0.1214 - val_acc: 0.8388\n",
      "Epoch 43/100\n",
      "768/768 [==============================] - 0s 95us/step - loss: 0.1266 - acc: 0.8320 - val_loss: 0.1284 - val_acc: 0.8241\n",
      "Epoch 44/100\n",
      "768/768 [==============================] - 0s 108us/step - loss: 0.1161 - acc: 0.8555 - val_loss: 0.1149 - val_acc: 0.8616\n",
      "Epoch 45/100\n",
      "768/768 [==============================] - 0s 102us/step - loss: 0.1156 - acc: 0.8398 - val_loss: 0.1127 - val_acc: 0.8567\n",
      "Epoch 46/100\n",
      "768/768 [==============================] - 0s 106us/step - loss: 0.1169 - acc: 0.8411 - val_loss: 0.1280 - val_acc: 0.8208\n",
      "Epoch 47/100\n",
      "768/768 [==============================] - 0s 110us/step - loss: 0.1181 - acc: 0.8490 - val_loss: 0.1211 - val_acc: 0.8404\n",
      "Epoch 48/100\n",
      "768/768 [==============================] - 0s 110us/step - loss: 0.1220 - acc: 0.8385 - val_loss: 0.1142 - val_acc: 0.8583\n",
      "Epoch 49/100\n",
      "768/768 [==============================] - 0s 136us/step - loss: 0.1178 - acc: 0.8464 - val_loss: 0.1272 - val_acc: 0.8257\n",
      "Epoch 50/100\n",
      "768/768 [==============================] - 0s 122us/step - loss: 0.1238 - acc: 0.8372 - val_loss: 0.1429 - val_acc: 0.8062\n",
      "Epoch 51/100\n",
      "768/768 [==============================] - 0s 109us/step - loss: 0.1425 - acc: 0.8021 - val_loss: 0.1197 - val_acc: 0.8355\n",
      "Epoch 52/100\n",
      "768/768 [==============================] - 0s 131us/step - loss: 0.1216 - acc: 0.8372 - val_loss: 0.1140 - val_acc: 0.8632\n",
      "Epoch 53/100\n",
      "768/768 [==============================] - 0s 133us/step - loss: 0.1236 - acc: 0.8372 - val_loss: 0.1289 - val_acc: 0.8290\n",
      "Epoch 54/100\n",
      "768/768 [==============================] - 0s 108us/step - loss: 0.1224 - acc: 0.8307 - val_loss: 0.1213 - val_acc: 0.8339\n",
      "Epoch 55/100\n",
      "768/768 [==============================] - 0s 83us/step - loss: 0.1208 - acc: 0.8385 - val_loss: 0.1163 - val_acc: 0.8583\n",
      "Epoch 56/100\n",
      "768/768 [==============================] - 0s 109us/step - loss: 0.1155 - acc: 0.8516 - val_loss: 0.1103 - val_acc: 0.8599\n",
      "Epoch 57/100\n",
      "768/768 [==============================] - 0s 96us/step - loss: 0.1116 - acc: 0.8594 - val_loss: 0.1232 - val_acc: 0.8355\n",
      "Epoch 58/100\n",
      "768/768 [==============================] - 0s 94us/step - loss: 0.1181 - acc: 0.8424 - val_loss: 0.1220 - val_acc: 0.8388\n",
      "Epoch 59/100\n",
      "768/768 [==============================] - 0s 102us/step - loss: 0.1188 - acc: 0.8346 - val_loss: 0.1364 - val_acc: 0.8192\n",
      "Epoch 60/100\n",
      "768/768 [==============================] - 0s 93us/step - loss: 0.1174 - acc: 0.8333 - val_loss: 0.1171 - val_acc: 0.8339\n",
      "Epoch 61/100\n"
     ]
    },
    {
     "name": "stdout",
     "output_type": "stream",
     "text": [
      "768/768 [==============================] - 0s 102us/step - loss: 0.1141 - acc: 0.8490 - val_loss: 0.1117 - val_acc: 0.8648\n",
      "Epoch 62/100\n",
      "768/768 [==============================] - 0s 92us/step - loss: 0.1078 - acc: 0.8672 - val_loss: 0.1087 - val_acc: 0.8681\n",
      "Epoch 63/100\n",
      "768/768 [==============================] - 0s 130us/step - loss: 0.1115 - acc: 0.8607 - val_loss: 0.1094 - val_acc: 0.8681\n",
      "Epoch 64/100\n",
      "768/768 [==============================] - 0s 120us/step - loss: 0.1105 - acc: 0.8555 - val_loss: 0.1083 - val_acc: 0.8648\n",
      "Epoch 65/100\n",
      "768/768 [==============================] - 0s 108us/step - loss: 0.1060 - acc: 0.8672 - val_loss: 0.1100 - val_acc: 0.8616\n",
      "Epoch 66/100\n",
      "768/768 [==============================] - 0s 114us/step - loss: 0.1124 - acc: 0.8503 - val_loss: 0.1098 - val_acc: 0.8713\n",
      "Epoch 67/100\n",
      "768/768 [==============================] - 0s 114us/step - loss: 0.1117 - acc: 0.8516 - val_loss: 0.1301 - val_acc: 0.8192\n",
      "Epoch 68/100\n",
      "768/768 [==============================] - 0s 125us/step - loss: 0.1225 - acc: 0.8333 - val_loss: 0.1352 - val_acc: 0.8192\n",
      "Epoch 69/100\n",
      "768/768 [==============================] - 0s 107us/step - loss: 0.1466 - acc: 0.8047 - val_loss: 0.1133 - val_acc: 0.8583\n",
      "Epoch 70/100\n",
      "768/768 [==============================] - 0s 109us/step - loss: 0.1138 - acc: 0.8424 - val_loss: 0.1111 - val_acc: 0.8469\n",
      "Epoch 71/100\n",
      "768/768 [==============================] - 0s 119us/step - loss: 0.1150 - acc: 0.8424 - val_loss: 0.1093 - val_acc: 0.8583\n",
      "Epoch 72/100\n",
      "768/768 [==============================] - 0s 120us/step - loss: 0.1088 - acc: 0.8607 - val_loss: 0.1092 - val_acc: 0.8550\n",
      "Epoch 73/100\n",
      "768/768 [==============================] - 0s 152us/step - loss: 0.1126 - acc: 0.8555 - val_loss: 0.1083 - val_acc: 0.8632\n",
      "Epoch 74/100\n",
      "768/768 [==============================] - 0s 124us/step - loss: 0.1091 - acc: 0.8633 - val_loss: 0.1120 - val_acc: 0.8436\n",
      "Epoch 75/100\n",
      "768/768 [==============================] - 0s 129us/step - loss: 0.1121 - acc: 0.8516 - val_loss: 0.1165 - val_acc: 0.8502\n",
      "Epoch 76/100\n",
      "768/768 [==============================] - 0s 148us/step - loss: 0.1295 - acc: 0.8281 - val_loss: 0.1545 - val_acc: 0.8013\n",
      "Epoch 77/100\n",
      "768/768 [==============================] - 0s 157us/step - loss: 0.1278 - acc: 0.8294 - val_loss: 0.1322 - val_acc: 0.8160\n",
      "Epoch 78/100\n",
      "768/768 [==============================] - 0s 129us/step - loss: 0.1308 - acc: 0.8281 - val_loss: 0.1365 - val_acc: 0.8062\n",
      "Epoch 79/100\n",
      "768/768 [==============================] - 0s 116us/step - loss: 0.1286 - acc: 0.8177 - val_loss: 0.1224 - val_acc: 0.8371\n",
      "Epoch 80/100\n",
      "768/768 [==============================] - 0s 122us/step - loss: 0.1143 - acc: 0.8437 - val_loss: 0.1198 - val_acc: 0.8388\n",
      "Epoch 81/100\n",
      "768/768 [==============================] - 0s 136us/step - loss: 0.1197 - acc: 0.8385 - val_loss: 0.1225 - val_acc: 0.8322\n",
      "Epoch 82/100\n",
      "768/768 [==============================] - 0s 125us/step - loss: 0.1108 - acc: 0.8620 - val_loss: 0.1081 - val_acc: 0.8599\n",
      "Epoch 83/100\n",
      "768/768 [==============================] - 0s 135us/step - loss: 0.1133 - acc: 0.8503 - val_loss: 0.1323 - val_acc: 0.8192\n",
      "Epoch 84/100\n",
      "768/768 [==============================] - 0s 125us/step - loss: 0.1194 - acc: 0.8490 - val_loss: 0.1121 - val_acc: 0.8567\n",
      "Epoch 85/100\n",
      "768/768 [==============================] - 0s 143us/step - loss: 0.1108 - acc: 0.8555 - val_loss: 0.1060 - val_acc: 0.8762\n",
      "Epoch 86/100\n",
      "768/768 [==============================] - 0s 124us/step - loss: 0.1084 - acc: 0.8659 - val_loss: 0.1118 - val_acc: 0.8550\n",
      "Epoch 87/100\n",
      "768/768 [==============================] - 0s 124us/step - loss: 0.1079 - acc: 0.8698 - val_loss: 0.1163 - val_acc: 0.8436\n",
      "Epoch 88/100\n",
      "768/768 [==============================] - 0s 117us/step - loss: 0.1087 - acc: 0.8633 - val_loss: 0.1026 - val_acc: 0.8762\n",
      "Epoch 89/100\n",
      "768/768 [==============================] - 0s 122us/step - loss: 0.1045 - acc: 0.8711 - val_loss: 0.1229 - val_acc: 0.8339\n",
      "Epoch 90/100\n",
      "768/768 [==============================] - 0s 112us/step - loss: 0.1226 - acc: 0.8307 - val_loss: 0.1269 - val_acc: 0.8355\n",
      "Epoch 91/100\n",
      "768/768 [==============================] - 0s 98us/step - loss: 0.1130 - acc: 0.8542 - val_loss: 0.1087 - val_acc: 0.8534\n",
      "Epoch 92/100\n",
      "768/768 [==============================] - 0s 119us/step - loss: 0.1070 - acc: 0.8646 - val_loss: 0.1069 - val_acc: 0.8681\n",
      "Epoch 93/100\n",
      "768/768 [==============================] - 0s 117us/step - loss: 0.1076 - acc: 0.8581 - val_loss: 0.1042 - val_acc: 0.8713\n",
      "Epoch 94/100\n",
      "768/768 [==============================] - 0s 132us/step - loss: 0.1024 - acc: 0.8633 - val_loss: 0.1016 - val_acc: 0.8681\n",
      "Epoch 95/100\n",
      "768/768 [==============================] - 0s 105us/step - loss: 0.1028 - acc: 0.8672 - val_loss: 0.1044 - val_acc: 0.8730\n",
      "Epoch 96/100\n",
      "768/768 [==============================] - 0s 126us/step - loss: 0.1007 - acc: 0.8711 - val_loss: 0.1116 - val_acc: 0.8583\n",
      "Epoch 97/100\n",
      "768/768 [==============================] - 0s 132us/step - loss: 0.1055 - acc: 0.8607 - val_loss: 0.1065 - val_acc: 0.8534\n",
      "Epoch 98/100\n",
      "768/768 [==============================] - 0s 127us/step - loss: 0.1084 - acc: 0.8646 - val_loss: 0.1061 - val_acc: 0.8632\n",
      "Epoch 99/100\n",
      "768/768 [==============================] - 0s 110us/step - loss: 0.1031 - acc: 0.8646 - val_loss: 0.1044 - val_acc: 0.8730\n",
      "Epoch 100/100\n",
      "768/768 [==============================] - 0s 129us/step - loss: 0.1074 - acc: 0.8503 - val_loss: 0.1104 - val_acc: 0.8518\n"
     ]
    },
    {
     "data": {
      "text/plain": [
       "<keras.callbacks.History at 0x268617a0f28>"
      ]
     },
     "execution_count": 44,
     "metadata": {},
     "output_type": "execute_result"
    }
   ],
   "source": [
    "model.compile(loss='mean_squared_error', optimizer='adam', metrics=['accuracy'])\n",
    "model.fit(features, label, epochs=100, batch_size=70, validation_data=(x_train, y_train))"
   ]
  },
  {
   "cell_type": "code",
   "execution_count": 51,
   "metadata": {},
   "outputs": [],
   "source": [
    "feature_try = np.array([x_train[0]])\n",
    "feature_try2 = np.array([x_train[1]])"
   ]
  },
  {
   "cell_type": "code",
   "execution_count": 53,
   "metadata": {},
   "outputs": [
    {
     "ename": "TypeError",
     "evalue": "data type not understood",
     "output_type": "error",
     "traceback": [
      "\u001b[1;31m---------------------------------------------------------------------------\u001b[0m",
      "\u001b[1;31mTypeError\u001b[0m                                 Traceback (most recent call last)",
      "\u001b[1;32m<ipython-input-53-b84524e2e077>\u001b[0m in \u001b[0;36m<module>\u001b[1;34m\u001b[0m\n\u001b[1;32m----> 1\u001b[1;33m \u001b[0mresult\u001b[0m \u001b[1;33m=\u001b[0m \u001b[0mmodel\u001b[0m\u001b[1;33m.\u001b[0m\u001b[0mpredict_classes\u001b[0m\u001b[1;33m(\u001b[0m\u001b[0mfeature_try2\u001b[0m\u001b[1;33m)\u001b[0m\u001b[1;33m\u001b[0m\u001b[0m\n\u001b[0m\u001b[0;32m      2\u001b[0m \u001b[1;33m\u001b[0m\u001b[0m\n\u001b[0;32m      3\u001b[0m \u001b[1;32mif\u001b[0m \u001b[0mresult\u001b[0m\u001b[1;33m==\u001b[0m\u001b[1;36m1\u001b[0m\u001b[1;33m:\u001b[0m\u001b[1;33m\u001b[0m\u001b[0m\n\u001b[0;32m      4\u001b[0m     \u001b[0mprint\u001b[0m\u001b[1;33m(\u001b[0m\u001b[1;34m\"Diabetes\"\u001b[0m\u001b[1;33m)\u001b[0m\u001b[1;33m\u001b[0m\u001b[0m\n\u001b[0;32m      5\u001b[0m \u001b[1;32melse\u001b[0m \u001b[1;33m:\u001b[0m\u001b[1;33m\u001b[0m\u001b[0m\n",
      "\u001b[1;32mc:\\users\\prince gada\\anaconda_new\\envs\\dl\\lib\\site-packages\\keras\\engine\\sequential.py\u001b[0m in \u001b[0;36mpredict_classes\u001b[1;34m(self, x, batch_size, verbose)\u001b[0m\n\u001b[0;32m    265\u001b[0m             \u001b[0mA\u001b[0m \u001b[0mnumpy\u001b[0m \u001b[0marray\u001b[0m \u001b[0mof\u001b[0m \u001b[1;32mclass\u001b[0m \u001b[0mpredictions\u001b[0m\u001b[1;33m.\u001b[0m\u001b[1;33m\u001b[0m\u001b[0m\n\u001b[0;32m    266\u001b[0m         \"\"\"\n\u001b[1;32m--> 267\u001b[1;33m         \u001b[0mproba\u001b[0m \u001b[1;33m=\u001b[0m \u001b[0mself\u001b[0m\u001b[1;33m.\u001b[0m\u001b[0mpredict\u001b[0m\u001b[1;33m(\u001b[0m\u001b[0mx\u001b[0m\u001b[1;33m,\u001b[0m \u001b[0mbatch_size\u001b[0m\u001b[1;33m=\u001b[0m\u001b[0mbatch_size\u001b[0m\u001b[1;33m,\u001b[0m \u001b[0mverbose\u001b[0m\u001b[1;33m=\u001b[0m\u001b[0mverbose\u001b[0m\u001b[1;33m)\u001b[0m\u001b[1;33m\u001b[0m\u001b[0m\n\u001b[0m\u001b[0;32m    268\u001b[0m         \u001b[1;32mif\u001b[0m \u001b[0mproba\u001b[0m\u001b[1;33m.\u001b[0m\u001b[0mshape\u001b[0m\u001b[1;33m[\u001b[0m\u001b[1;33m-\u001b[0m\u001b[1;36m1\u001b[0m\u001b[1;33m]\u001b[0m \u001b[1;33m>\u001b[0m \u001b[1;36m1\u001b[0m\u001b[1;33m:\u001b[0m\u001b[1;33m\u001b[0m\u001b[0m\n\u001b[0;32m    269\u001b[0m             \u001b[1;32mreturn\u001b[0m \u001b[0mproba\u001b[0m\u001b[1;33m.\u001b[0m\u001b[0margmax\u001b[0m\u001b[1;33m(\u001b[0m\u001b[0maxis\u001b[0m\u001b[1;33m=\u001b[0m\u001b[1;33m-\u001b[0m\u001b[1;36m1\u001b[0m\u001b[1;33m)\u001b[0m\u001b[1;33m\u001b[0m\u001b[0m\n",
      "\u001b[1;32mc:\\users\\prince gada\\anaconda_new\\envs\\dl\\lib\\site-packages\\keras\\engine\\training.py\u001b[0m in \u001b[0;36mpredict\u001b[1;34m(self, x, batch_size, verbose, steps)\u001b[0m\n\u001b[0;32m   1167\u001b[0m                                             \u001b[0mbatch_size\u001b[0m\u001b[1;33m=\u001b[0m\u001b[0mbatch_size\u001b[0m\u001b[1;33m,\u001b[0m\u001b[1;33m\u001b[0m\u001b[0m\n\u001b[0;32m   1168\u001b[0m                                             \u001b[0mverbose\u001b[0m\u001b[1;33m=\u001b[0m\u001b[0mverbose\u001b[0m\u001b[1;33m,\u001b[0m\u001b[1;33m\u001b[0m\u001b[0m\n\u001b[1;32m-> 1169\u001b[1;33m                                             steps=steps)\n\u001b[0m\u001b[0;32m   1170\u001b[0m \u001b[1;33m\u001b[0m\u001b[0m\n\u001b[0;32m   1171\u001b[0m     def train_on_batch(self, x, y,\n",
      "\u001b[1;32mc:\\users\\prince gada\\anaconda_new\\envs\\dl\\lib\\site-packages\\keras\\engine\\training_arrays.py\u001b[0m in \u001b[0;36mpredict_loop\u001b[1;34m(model, f, ins, batch_size, verbose, steps)\u001b[0m\n\u001b[0;32m    298\u001b[0m                 \u001b[1;32mfor\u001b[0m \u001b[0mbatch_out\u001b[0m \u001b[1;32min\u001b[0m \u001b[0mbatch_outs\u001b[0m\u001b[1;33m:\u001b[0m\u001b[1;33m\u001b[0m\u001b[0m\n\u001b[0;32m    299\u001b[0m                     \u001b[0mshape\u001b[0m \u001b[1;33m=\u001b[0m \u001b[1;33m(\u001b[0m\u001b[0mnum_samples\u001b[0m\u001b[1;33m,\u001b[0m\u001b[1;33m)\u001b[0m \u001b[1;33m+\u001b[0m \u001b[0mbatch_out\u001b[0m\u001b[1;33m.\u001b[0m\u001b[0mshape\u001b[0m\u001b[1;33m[\u001b[0m\u001b[1;36m1\u001b[0m\u001b[1;33m:\u001b[0m\u001b[1;33m]\u001b[0m\u001b[1;33m\u001b[0m\u001b[0m\n\u001b[1;32m--> 300\u001b[1;33m                     \u001b[0mouts\u001b[0m\u001b[1;33m.\u001b[0m\u001b[0mappend\u001b[0m\u001b[1;33m(\u001b[0m\u001b[0mnp\u001b[0m\u001b[1;33m.\u001b[0m\u001b[0mzeros\u001b[0m\u001b[1;33m(\u001b[0m\u001b[0mshape\u001b[0m\u001b[1;33m,\u001b[0m \u001b[0mdtype\u001b[0m\u001b[1;33m=\u001b[0m\u001b[0mbatch_out\u001b[0m\u001b[1;33m.\u001b[0m\u001b[0mdtype\u001b[0m\u001b[1;33m)\u001b[0m\u001b[1;33m)\u001b[0m\u001b[1;33m\u001b[0m\u001b[0m\n\u001b[0m\u001b[0;32m    301\u001b[0m             \u001b[1;32mfor\u001b[0m \u001b[0mi\u001b[0m\u001b[1;33m,\u001b[0m \u001b[0mbatch_out\u001b[0m \u001b[1;32min\u001b[0m \u001b[0menumerate\u001b[0m\u001b[1;33m(\u001b[0m\u001b[0mbatch_outs\u001b[0m\u001b[1;33m)\u001b[0m\u001b[1;33m:\u001b[0m\u001b[1;33m\u001b[0m\u001b[0m\n\u001b[0;32m    302\u001b[0m                 \u001b[0mouts\u001b[0m\u001b[1;33m[\u001b[0m\u001b[0mi\u001b[0m\u001b[1;33m]\u001b[0m\u001b[1;33m[\u001b[0m\u001b[0mbatch_start\u001b[0m\u001b[1;33m:\u001b[0m\u001b[0mbatch_end\u001b[0m\u001b[1;33m]\u001b[0m \u001b[1;33m=\u001b[0m \u001b[0mbatch_out\u001b[0m\u001b[1;33m\u001b[0m\u001b[0m\n",
      "\u001b[1;31mTypeError\u001b[0m: data type not understood"
     ]
    }
   ],
   "source": [
    "result = model.predict_classes(feature_try2)\n",
    "\n",
    "if result==1:\n",
    "    print(\"Diabetes\")\n",
    "else :\n",
    "    print(\"No Diabetes\")"
   ]
  },
  {
   "cell_type": "code",
   "execution_count": null,
   "metadata": {},
   "outputs": [],
   "source": []
  }
 ],
 "metadata": {
  "kernelspec": {
   "display_name": "Python 3",
   "language": "python",
   "name": "python3"
  },
  "language_info": {
   "codemirror_mode": {
    "name": "ipython",
    "version": 3
   },
   "file_extension": ".py",
   "mimetype": "text/x-python",
   "name": "python",
   "nbconvert_exporter": "python",
   "pygments_lexer": "ipython3",
   "version": "3.6.5"
  }
 },
 "nbformat": 4,
 "nbformat_minor": 2
}
